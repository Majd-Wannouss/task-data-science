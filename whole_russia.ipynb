{
 "cells": [
  {
   "cell_type": "code",
   "execution_count": 1,
   "id": "946a52c1-3119-41ac-a63c-e01863f92cb8",
   "metadata": {},
   "outputs": [],
   "source": [
    "# import the libraries\n",
    "import numpy as np\n",
    "import pandas as pd\n",
    "import matplotlib.pyplot as plt\n",
    "import seaborn as sns"
   ]
  },
  {
   "cell_type": "code",
   "execution_count": 2,
   "id": "c69ca98f-0987-4dbf-acd5-039718e2409f",
   "metadata": {},
   "outputs": [
    {
     "data": {
      "text/html": [
       "<div>\n",
       "<style scoped>\n",
       "    .dataframe tbody tr th:only-of-type {\n",
       "        vertical-align: middle;\n",
       "    }\n",
       "\n",
       "    .dataframe tbody tr th {\n",
       "        vertical-align: top;\n",
       "    }\n",
       "\n",
       "    .dataframe thead th {\n",
       "        text-align: right;\n",
       "    }\n",
       "</style>\n",
       "<table border=\"1\" class=\"dataframe\">\n",
       "  <thead>\n",
       "    <tr style=\"text-align: right;\">\n",
       "      <th></th>\n",
       "      <th>age</th>\n",
       "      <th>name</th>\n",
       "      <th>man</th>\n",
       "      <th>woman</th>\n",
       "    </tr>\n",
       "  </thead>\n",
       "  <tbody>\n",
       "    <tr>\n",
       "      <th>0</th>\n",
       "      <td>моложе 15 лет</td>\n",
       "      <td>Алтайский край</td>\n",
       "      <td>0</td>\n",
       "      <td>0</td>\n",
       "    </tr>\n",
       "    <tr>\n",
       "      <th>1</th>\n",
       "      <td>моложе 15 лет</td>\n",
       "      <td>Амурская область</td>\n",
       "      <td>0</td>\n",
       "      <td>0</td>\n",
       "    </tr>\n",
       "    <tr>\n",
       "      <th>2</th>\n",
       "      <td>моложе 15 лет</td>\n",
       "      <td>Архангельская область</td>\n",
       "      <td>0</td>\n",
       "      <td>0</td>\n",
       "    </tr>\n",
       "    <tr>\n",
       "      <th>3</th>\n",
       "      <td>моложе 15 лет</td>\n",
       "      <td>Астраханская область</td>\n",
       "      <td>0</td>\n",
       "      <td>0</td>\n",
       "    </tr>\n",
       "    <tr>\n",
       "      <th>4</th>\n",
       "      <td>моложе 15 лет</td>\n",
       "      <td>Белгородская область</td>\n",
       "      <td>1</td>\n",
       "      <td>0</td>\n",
       "    </tr>\n",
       "    <tr>\n",
       "      <th>...</th>\n",
       "      <td>...</td>\n",
       "      <td>...</td>\n",
       "      <td>...</td>\n",
       "      <td>...</td>\n",
       "    </tr>\n",
       "    <tr>\n",
       "      <th>1591</th>\n",
       "      <td>40 лет и старше</td>\n",
       "      <td>Чеченская Республика</td>\n",
       "      <td>193</td>\n",
       "      <td>130</td>\n",
       "    </tr>\n",
       "    <tr>\n",
       "      <th>1592</th>\n",
       "      <td>40 лет и старше</td>\n",
       "      <td>Чувашская Республика</td>\n",
       "      <td>637</td>\n",
       "      <td>683</td>\n",
       "    </tr>\n",
       "    <tr>\n",
       "      <th>1593</th>\n",
       "      <td>40 лет и старше</td>\n",
       "      <td>Чукотский автономный округ</td>\n",
       "      <td>4</td>\n",
       "      <td>2</td>\n",
       "    </tr>\n",
       "    <tr>\n",
       "      <th>1594</th>\n",
       "      <td>40 лет и старше</td>\n",
       "      <td>Ямало-Ненецкий автономный округ</td>\n",
       "      <td>15</td>\n",
       "      <td>1</td>\n",
       "    </tr>\n",
       "    <tr>\n",
       "      <th>1595</th>\n",
       "      <td>40 лет и старше</td>\n",
       "      <td>Ярославская область</td>\n",
       "      <td>305</td>\n",
       "      <td>438</td>\n",
       "    </tr>\n",
       "  </tbody>\n",
       "</table>\n",
       "<p>1596 rows × 4 columns</p>\n",
       "</div>"
      ],
      "text/plain": [
       "                  age                             name  man  woman\n",
       "0       моложе 15 лет                   Алтайский край    0      0\n",
       "1       моложе 15 лет                 Амурская область    0      0\n",
       "2       моложе 15 лет            Архангельская область    0      0\n",
       "3       моложе 15 лет             Астраханская область    0      0\n",
       "4       моложе 15 лет             Белгородская область    1      0\n",
       "...               ...                              ...  ...    ...\n",
       "1591  40 лет и старше             Чеченская Республика  193    130\n",
       "1592  40 лет и старше             Чувашская Республика  637    683\n",
       "1593  40 лет и старше       Чукотский автономный округ    4      2\n",
       "1594  40 лет и старше  Ямало-Ненецкий автономный округ   15      1\n",
       "1595  40 лет и старше              Ярославская область  305    438\n",
       "\n",
       "[1596 rows x 4 columns]"
      ]
     },
     "execution_count": 2,
     "metadata": {},
     "output_type": "execute_result"
    }
   ],
   "source": [
    "# import the dataset\n",
    "df = pd.read_csv(\"students by age.csv\",delimiter=';',encoding='cp1251')\n",
    "df"
   ]
  },
  {
   "cell_type": "code",
   "execution_count": 3,
   "id": "9009f0c6-165b-433f-b895-8a69c4ca9aeb",
   "metadata": {},
   "outputs": [
    {
     "data": {
      "text/plain": [
       "(84,)"
      ]
     },
     "execution_count": 3,
     "metadata": {},
     "output_type": "execute_result"
    }
   ],
   "source": [
    "# defining two arrays with the name of the unique age groups and the unique regions\n",
    "ages = df.age.unique()\n",
    "regions= df.name.unique()\n",
    "regions.shape"
   ]
  },
  {
   "cell_type": "code",
   "execution_count": 4,
   "id": "3103d0ac-adc6-4497-b5c2-d323a576f92f",
   "metadata": {},
   "outputs": [
    {
     "data": {
      "text/html": [
       "<div>\n",
       "<style scoped>\n",
       "    .dataframe tbody tr th:only-of-type {\n",
       "        vertical-align: middle;\n",
       "    }\n",
       "\n",
       "    .dataframe tbody tr th {\n",
       "        vertical-align: top;\n",
       "    }\n",
       "\n",
       "    .dataframe thead th {\n",
       "        text-align: right;\n",
       "    }\n",
       "</style>\n",
       "<table border=\"1\" class=\"dataframe\">\n",
       "  <thead>\n",
       "    <tr style=\"text-align: right;\">\n",
       "      <th></th>\n",
       "      <th>age</th>\n",
       "      <th>val</th>\n",
       "    </tr>\n",
       "  </thead>\n",
       "  <tbody>\n",
       "    <tr>\n",
       "      <th>0</th>\n",
       "      <td>15.0</td>\n",
       "      <td>59.0</td>\n",
       "    </tr>\n",
       "    <tr>\n",
       "      <th>1</th>\n",
       "      <td>16.0</td>\n",
       "      <td>2680.0</td>\n",
       "    </tr>\n",
       "    <tr>\n",
       "      <th>2</th>\n",
       "      <td>17.0</td>\n",
       "      <td>84120.0</td>\n",
       "    </tr>\n",
       "    <tr>\n",
       "      <th>3</th>\n",
       "      <td>18.0</td>\n",
       "      <td>442103.0</td>\n",
       "    </tr>\n",
       "    <tr>\n",
       "      <th>4</th>\n",
       "      <td>19.0</td>\n",
       "      <td>504794.0</td>\n",
       "    </tr>\n",
       "    <tr>\n",
       "      <th>5</th>\n",
       "      <td>20.0</td>\n",
       "      <td>565739.0</td>\n",
       "    </tr>\n",
       "    <tr>\n",
       "      <th>6</th>\n",
       "      <td>21.0</td>\n",
       "      <td>564847.0</td>\n",
       "    </tr>\n",
       "    <tr>\n",
       "      <th>7</th>\n",
       "      <td>22.0</td>\n",
       "      <td>456060.0</td>\n",
       "    </tr>\n",
       "    <tr>\n",
       "      <th>8</th>\n",
       "      <td>23.0</td>\n",
       "      <td>355615.0</td>\n",
       "    </tr>\n",
       "    <tr>\n",
       "      <th>9</th>\n",
       "      <td>24.0</td>\n",
       "      <td>221301.0</td>\n",
       "    </tr>\n",
       "    <tr>\n",
       "      <th>10</th>\n",
       "      <td>25.0</td>\n",
       "      <td>142338.0</td>\n",
       "    </tr>\n",
       "    <tr>\n",
       "      <th>11</th>\n",
       "      <td>26.0</td>\n",
       "      <td>96776.0</td>\n",
       "    </tr>\n",
       "    <tr>\n",
       "      <th>12</th>\n",
       "      <td>27.0</td>\n",
       "      <td>71353.0</td>\n",
       "    </tr>\n",
       "    <tr>\n",
       "      <th>13</th>\n",
       "      <td>28.0</td>\n",
       "      <td>56521.0</td>\n",
       "    </tr>\n",
       "    <tr>\n",
       "      <th>14</th>\n",
       "      <td>29.0</td>\n",
       "      <td>51240.0</td>\n",
       "    </tr>\n",
       "  </tbody>\n",
       "</table>\n",
       "</div>"
      ],
      "text/plain": [
       "     age       val\n",
       "0   15.0      59.0\n",
       "1   16.0    2680.0\n",
       "2   17.0   84120.0\n",
       "3   18.0  442103.0\n",
       "4   19.0  504794.0\n",
       "5   20.0  565739.0\n",
       "6   21.0  564847.0\n",
       "7   22.0  456060.0\n",
       "8   23.0  355615.0\n",
       "9   24.0  221301.0\n",
       "10  25.0  142338.0\n",
       "11  26.0   96776.0\n",
       "12  27.0   71353.0\n",
       "13  28.0   56521.0\n",
       "14  29.0   51240.0"
      ]
     },
     "execution_count": 4,
     "metadata": {},
     "output_type": "execute_result"
    }
   ],
   "source": [
    "# taking columns number [1,2,3,4] of the dataset into a numpy array\n",
    "X = df.iloc[:,[0,1,2,3]].values\n",
    "# defining a dictionary with the key \"age\" which contains an array of the required age groups for\n",
    "# this study (15-29) and the key \"val\" which represents the number of students of an age group in whole Russia\n",
    "d ={\"age\": np.linspace(15,29,15),\"val\":np.zeros(15)}\n",
    "\n",
    "for i in range(1596):\n",
    "    ID=int(np.where(ages== X[i,0])[0])\n",
    "    if ID>0 and ID<16:\n",
    "        d[\"val\"][ID-1]=(float(X[i,2]+X[i,3]))+d[\"val\"][ID-1]\n",
    "d = pd.DataFrame(d)\n",
    "d"
   ]
  },
  {
   "cell_type": "code",
   "execution_count": 10,
   "id": "14aef384-8c59-4c76-babb-c4c1e714e560",
   "metadata": {},
   "outputs": [
    {
     "data": {
      "image/png": "[encoded data removed]",
      "text/plain": [
       "<Figure size 432x288 with 1 Axes>"
      ]
     },
     "metadata": {
      "needs_background": "light"
     },
     "output_type": "display_data"
    }
   ],
   "source": [
    "# distribution plot\n",
    "leg = d[\"val\"].sum()\n",
    "plt.bar(d.age, d.val)\n",
    "plt.title(\"total number of students = {} students\".format(leg))\n",
    "plt.xlabel(\"years\")\n",
    "plt.ylabel(\"number of students\")\n",
    "plt.show()"
   ]
  },
  {
   "cell_type": "code",
   "execution_count": 11,
   "id": "109ea98d-e73d-418c-931b-13bb9eb02984",
   "metadata": {},
   "outputs": [
    {
     "data": {
      "text/plain": [
       "<function matplotlib.pyplot.show(close=None, block=None)>"
      ]
     },
     "execution_count": 11,
     "metadata": {},
     "output_type": "execute_result"
    },
    {
     "data": {
      "image/png": "[encoded data removed]",
      "text/plain": [
       "<Figure size 432x288 with 1 Axes>"
      ]
     },
     "metadata": {
      "needs_background": "light"
     },
     "output_type": "display_data"
    }
   ],
   "source": [
    "#density curve\n",
    "a = pd.Series(d.age.repeat(d.val))\n",
    "a.plot.kde(bw_method=0.5)\n",
    "plt.hist(a,bins=15,  density=True, alpha=0.6, color='b')\n",
    "plt.title(\"density curve and density histogram for all students in russia\")\n",
    "plt.xlabel(\"years\")\n",
    "plt.show"
   ]
  },
  {
   "cell_type": "code",
   "execution_count": null,
   "id": "ed20216c-4f86-4c45-9c11-59f00e555af5",
   "metadata": {},
   "outputs": [],
   "source": []
  },
  {
   "cell_type": "code",
   "execution_count": 6,
   "id": "0513713f-5fe2-4b0a-8774-e9134a9a5b16",
   "metadata": {},
   "outputs": [],
   "source": [
    "# create a data frame for male and female students\n",
    "X = df.iloc[:,[0,1,2,3]].values\n",
    "d ={\"age\": np.linspace(15,29,15),\"men\":np.zeros(15),\"women\":np.zeros(15)}\n",
    "\n",
    "for i in range(1596):\n",
    "    ID=int(np.where(ages== X[i,0])[0])\n",
    "    if ID>0 and ID<16:\n",
    "        d[\"men\"][ID-1]=(float(X[i,2]))+d[\"men\"][ID-1]\n",
    "        d[\"women\"][ID-1]=(float(X[i,3]))+d[\"women\"][ID-1]\n",
    "d = pd.DataFrame(d)"
   ]
  },
  {
   "cell_type": "code",
   "execution_count": 12,
   "id": "b8d87f06-aa5b-4bb7-81da-ff0aa6e1a5af",
   "metadata": {},
   "outputs": [
    {
     "data": {
      "image/png": "[encoded data removed]",
      "text/plain": [
       "<Figure size 432x288 with 1 Axes>"
      ]
     },
     "metadata": {
      "needs_background": "light"
     },
     "output_type": "display_data"
    }
   ],
   "source": [
    "plt.bar(d.age, d.men,align=\"center\",width=0.4,label=\"male\")\n",
    "plt.bar(d.age,d.women,align=\"edge\",width=0.4,label=\"femal\")\n",
    "plt.xlabel(\"years\")\n",
    "plt.ylabel(\"number of male students\")\n",
    "plt.legend()\n",
    "plt.show()"
   ]
  },
  {
   "cell_type": "code",
   "execution_count": 14,
   "id": "d9608063-1624-464b-b934-89cfc3b3988b",
   "metadata": {},
   "outputs": [
    {
     "data": {
      "text/plain": [
       "<function matplotlib.pyplot.show(close=None, block=None)>"
      ]
     },
     "execution_count": 14,
     "metadata": {},
     "output_type": "execute_result"
    },
    {
     "data": {
      "image/png": "[encoded data removed]",
      "text/plain": [
       "<Figure size 432x288 with 1 Axes>"
      ]
     },
     "metadata": {
      "needs_background": "light"
     },
     "output_type": "display_data"
    }
   ],
   "source": [
    "a = pd.Series(d.age.repeat(d.val))\n",
    "a.plot.kde(bw_method=0.5)\n",
    "plt.hist(a,bins=15,  density=True, alpha=0.6, color='b')\n",
    "plt.title(\"density curve and density histogram for male students in russia\")\n",
    "plt.xlabel(\"years\")\n",
    "plt.show"
   ]
  },
  {
   "cell_type": "code",
   "execution_count": null,
   "id": "7de3d8c9-208a-49c7-87bb-cd774071b517",
   "metadata": {},
   "outputs": [],
   "source": []
  },
  {
   "cell_type": "code",
   "execution_count": 55,
   "id": "50702cb3-87d1-42a5-b3f2-16d0bc51aae3",
   "metadata": {},
   "outputs": [],
   "source": [
    "X = df.iloc[:,[0,1,2,3]].values\n",
    "d ={\"age\": np.linspace(15,29,15),\"val\":np.zeros(15)}\n",
    "\n",
    "for i in range(1596):\n",
    "    ID=int(np.where(ages== X[i,0])[0])\n",
    "    if ID>0 and ID<16:\n",
    "        d[\"val\"][ID-1]=(float(X[i,3]))+d[\"val\"][ID-1]\n",
    "d = pd.DataFrame(d)"
   ]
  },
  {
   "cell_type": "code",
   "execution_count": 56,
   "id": "f710eff2-4544-45e1-b5ac-cf71e58c24f6",
   "metadata": {},
   "outputs": [
    {
     "data": {
      "image/png": "[encoded data removed]",
      "text/plain": [
       "<Figure size 432x288 with 1 Axes>"
      ]
     },
     "metadata": {
      "needs_background": "light"
     },
     "output_type": "display_data"
    }
   ],
   "source": [
    "leg = d[\"val\"].sum()\n",
    "plt.bar(d.age, d.val)\n",
    "plt.title(\"total number of female students = {}\".format(leg))\n",
    "plt.xlabel(\"years\")\n",
    "plt.ylabel(\"number of female students\")\n",
    "plt.show()"
   ]
  },
  {
   "cell_type": "code",
   "execution_count": 5,
   "id": "fb61086f-e5ff-4b66-bdbf-9a8650312b43",
   "metadata": {},
   "outputs": [
    {
     "data": {
      "text/plain": [
       "<function matplotlib.pyplot.show(close=None, block=None)>"
      ]
     },
     "execution_count": 5,
     "metadata": {},
     "output_type": "execute_result"
    },
    {
     "data": {
      "image/png": "[encoded data removed]",
      "text/plain": [
       "<Figure size 432x288 with 1 Axes>"
      ]
     },
     "metadata": {
      "needs_background": "light"
     },
     "output_type": "display_data"
    }
   ],
   "source": [
    "a = pd.Series(d.age.repeat(d.val))\n",
    "a.plot.kde(bw_method=0.5)\n",
    "plt.hist(a,bins=19,  density=True, alpha=0.6, color='b')\n",
    "plt.title(\"density curve and density histogram for female students in russia\")\n",
    "plt.xlabel(\"years\")\n",
    "plt.show"
   ]
  },
  {
   "cell_type": "code",
   "execution_count": null,
   "id": "3c838ed0-81ac-42a7-80e4-4a23150678d7",
   "metadata": {},
   "outputs": [],
   "source": []
  }
 ],
 "metadata": {
  "kernelspec": {
   "display_name": "Python 3 (ipykernel)",
   "language": "python",
   "name": "python3"
  },
  "language_info": {
   "codemirror_mode": {
    "name": "ipython",
    "version": 3
   },
   "file_extension": ".py",
   "mimetype": "text/x-python",
   "name": "python",
   "nbconvert_exporter": "python",
   "pygments_lexer": "ipython3",
   "version": "3.10.2"
  }
 },
 "nbformat": 4,
 "nbformat_minor": 5
}
